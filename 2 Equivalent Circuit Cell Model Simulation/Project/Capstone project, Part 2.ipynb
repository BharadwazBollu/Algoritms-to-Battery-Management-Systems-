{
 "cells": [
  {
   "cell_type": "markdown",
   "metadata": {
    "collapsed": true
   },
   "source": [
    "## Capstone project, Part 2: Simulating a battery pack built from PCMs\n",
    "Welcome to the second computer assignment. If you have not already done so, please complete the \"Part 1\" project before attempting this \"Part 2\". The concepts of this part (particularly how to use this notebook and submit your results) build on those from the first part. As before, when you have completed your modifications to the sample code that I have provided as a starting point, click on the <b>\"Submit Assignment\"</b> button to submit your code to the grader."
   ]
  },
  {
   "cell_type": "markdown",
   "metadata": {},
   "source": [
    "### Concept\n",
    "This Jupyter notebook operates in the same way as all of the other Jupyter notebooks that you have used so far in this course. You can type Octave code into notebook cells and execute that code to see how it functions. This allows you to test your code fully before submitting it for grading.\n",
    "\n",
    "Only one notebook cell is actually graded – the one marked with <code>\"% GRADED FUNCTION\"</code> in its first line. Do not modify that line – otherwise the grader will not be able to find the correct function for grading."
   ]
  },
  {
   "cell_type": "markdown",
   "metadata": {},
   "source": [
    "### Deliverables\n",
    "The goal of Part 2 of the capstone project is to write an Octave function that simulates a battery pack built from PCMs. You will start with some sample code that simulates a battery pack built from PCMs at a constant temperature. You will modify this code to enable simulation where the temperature changes with time.\n",
    "\n",
    "The next workbook cell initializes the workspace by loading in a battery cell model file. This will also be done by the grader."
   ]
  },
  {
   "cell_type": "code",
   "execution_count": null,
   "metadata": {
    "collapsed": true
   },
   "outputs": [],
   "source": [
    "% Initialize workspace, load the E2 circuit model as well as the E2 dynamic data\n",
    "addpath readonly\n",
    "load readonly/E2model.mat; % load parameter values already created for the E2 cell\n",
    "load readonly/E2_DYN_P25.mat; % load raw test data for the E2 cell at 25 degC\n",
    "\n",
    "% Resample at consistent 1Hz rate.\n",
    "deltaT = 1; \n",
    "time = DYNData.script1.time - DYNData.script1.time(1);    \n",
    "t = (2000:deltaT:2500); % use only a portion of this test data to speed up simulation\n",
    "current = interp1(time,DYNData.script1.current,t);"
   ]
  },
  {
   "cell_type": "markdown",
   "metadata": {},
   "source": [
    "The next cell contains the code that you must modify. As is, it simulates a battery pack built from PCMs for a constant temperature. You must modify this function so that it simulates the pack for a time-varying temperature profile. \n",
    "\n",
    "In this notebook cell, change only the lines between <code>\"% BEGIN MODIFYING CODE AFTER THIS\"</code> and <code>\"% FINISH MODIFYING CODE BEFORE THIS\"</code>. In particular, do not modify the first comment <code>\"% GRADED FUNCTION ...\"</code>, and do not modify the function inputs, outputs, or name."
   ]
  },
  {
   "cell_type": "code",
   "execution_count": null,
   "metadata": {},
   "outputs": [],
   "source": [
    "% GRADED FUNCTION (do not modify this line)\n",
    "\n",
    "% function [vpack,vcell,icell,zcell,qcell,rcell] = simPCMTemp(Ns,Np,current,temp,deltaT,model)\n",
    "%\n",
    "% Simulate parallel-connected-module packs (cells are connected in parallel\n",
    "% to make modules; these modules are connected in series to make packs).\n",
    "% Note: This function must work for models having a single R-C pair. It is\n",
    "% not required to work for models having multiple R-C pairs.\n",
    "%\n",
    "% Ns - number of modules connected in series to make a pack\n",
    "% Np - number of cells connected in parallel in each module\n",
    "% current - battery pack current, where (+) is discharge. Size is N x 1.\n",
    "% temp  - temperature (degC). Size is N x 1 (all cells at same temperature).\n",
    "% deltaT = sampling interval in data (s)\n",
    "% model - standard model structure\n",
    "% delta - variability vector: variable initial SOC if delta(1)==1; \n",
    "%                         variable total capacity if delta(2)==1;\n",
    "%                         variable series resistance if delta(3)==1;\n",
    "%\n",
    "% vpack - battery pack voltage. Size is N x 1.\n",
    "% vcell - individual cell voltages. Size is N x Ns x Np\n",
    "% icell - individual cell currents. Size is N x Ns x Np\n",
    "% zcell - individual cell states of charge. Size is N x Ns x Np\n",
    "% qcell - individual cell capacities. Size is N x Ns x Np\n",
    "% rcell - individual cell series resistances. Size is N x Ns x Np\n",
    "\n",
    "function [vpack,vcell,icell,zcell,qcell,rcell] = simPCMTemp(Ns,Np,current,temp,deltaT,model,delta)\n",
    "\n",
    "  % Force current to be column vector in case user entered data incorrectly\n",
    "  current = current(:); N = length(current); temp = temp(:);\n",
    "  % Initialize function outputs\n",
    "  vpack = zeros(N,1); vcell = zeros(N,Ns,Np); icell = zeros(N,Ns,Np);\n",
    "  zcell = zeros(N,Ns,Np); qcell = zeros(N,Ns,Np); rcell = zeros(N,Ns,Np);\n",
    "  \n",
    "  % Do some error checking on the function inputs\n",
    "  Nr = length(getParamESC('RCParam',25,model)); % number of R-C pairs.\n",
    "  if Nr ~= 1,\n",
    "    error('This code does not work for models having multiple R-C pairs.');\n",
    "  end\n",
    "  if length(temp) ~= N,\n",
    "    error('Input \"temp\" vector not the correct dimension.');\n",
    "  end\n",
    "  \n",
    "  % Initialize states for ESC cell model\n",
    "  if delta(1),\n",
    "    z = reshape(linspace(0.3,0.7,Ns*Np),Ns,Np); % Different initial SOCs\n",
    "  else\n",
    "    z = 0.5*ones(Ns,Np);\n",
    "  end\n",
    "  irc = zeros(Ns,Np);\n",
    "  h   = zeros(Ns,Np);\n",
    "\n",
    "  % BEGIN MODIFYING CODE AFTER THIS\n",
    "  \n",
    "  T = temp(1); % sample code uses only single temperature -- you will need to change this!\n",
    "  \n",
    "  % The code reproduced below as a starting point for you is modified from\n",
    "  % \"simPCM.m\".\n",
    "  %\n",
    "  % Get model parameters from model structure -- notice that these retreive\n",
    "  % parameter values for only a single temperature. You will need to change\n",
    "  % this to load parameter values for all temperatures in temp.\n",
    "  \n",
    "  % Default initialization for cells within the pack\n",
    "  q  = getParamESC('QParam',T,model)*ones(Ns,Np); \n",
    "  rc = exp(-deltaT./abs(getParamESC('RCParam',T,model)))'*ones(Ns,Np);\n",
    "  r  = (getParamESC('RParam',T,model))';\n",
    "  m  = getParamESC('MParam',T,model)*ones(Ns,Np);\n",
    "  g  = getParamESC('GParam',T,model)*ones(Ns,Np);\n",
    "  r0 = getParamESC('R0Param',T,model)*ones(Ns,Np); \n",
    "  rt = 0.000125; % 125 microOhm resistance for each tab\n",
    "\n",
    "  % How to modify capacity at any temperature if that input option is set... \n",
    "  % Don't change this functionality since the grader assumes it.\n",
    "  if delta(2), \n",
    "    q = reshape(linspace(0.95,1.05,Ns*Np),Ns,Np).*q; \n",
    "  end\n",
    "  % How to modify resistances at any temperature if that input option is set...\n",
    "  % Don't change this functionality since the grader assumes it.\n",
    "  if delta(3),\n",
    "    r0 = reshape(linspace(0.95,1.05,Ns*Np),Ns,Np).*r0; \n",
    "  end\n",
    "  r0 = r0 + 2*rt; % add tab resistance to cell resistance\n",
    "\n",
    "  % Okay... now to simulate pack performance using ESC cell model.\n",
    "  for k = 1:N,\n",
    "    v = OCVfromSOCtemp(z,T,model); % get OCV for each cell: Ns * Np matrix\n",
    "    v = v + m.*h - r.*irc; % add in capacitor voltages and hysteresis\n",
    "\n",
    "    V = (sum(v./r0,2) - current(k))./sum(1./r0,2);\n",
    "    ik = (v-repmat(V,1,Np))./r0;\n",
    "\n",
    "    z = z - (1/3600)*ik./q;  % Update each cell SOC\n",
    "    irc = rc.*irc + (1-rc).*ik; % Update capacitor voltages\n",
    "    fac = exp(-abs(g.*ik)./(3600*q));\n",
    "    h = fac.*h + (fac-1).*sign(ik); % Update hysteresis voltages\n",
    "\n",
    "    vpack(k)     = sum(V); % Store pack voltage\n",
    "    vcell(k,:,:) = v - ik.*r0; % Store cell voltages\n",
    "    zcell(k,:,:) = z; % Store cell SOCs\n",
    "    icell(k,:,:) = ik; % Store cell currents\n",
    "    qcell(k,:,:) = q; % Store cell capacities\n",
    "    rcell(k,:,:) = r0; % Store cell resistances\n",
    "  end % for k\n",
    "\n",
    "  % FINISH MODIFYING CODE BEFORE THIS\n",
    "\n",
    "end\n",
    "% END GRADED FUNCTION"
   ]
  },
  {
   "cell_type": "markdown",
   "metadata": {},
   "source": [
    "After pressing < shift >< enter > to input the Jupyter notebook cell, above, wait until the \"In [*]\" on your screen to the left of the notebook cell changes to \"In [#]\" where \"#\" is some number. You cannot use the function until Octave has finished scanning it.\n",
    "\n",
    "You can test your function, as is demonstrated below. You can also refer back to the Jupyter notebook used in lesson 2.4.4 to see other testing that you can do."
   ]
  },
  {
   "cell_type": "code",
   "execution_count": null,
   "metadata": {},
   "outputs": [],
   "source": [
    "% Execute simCell to determine voltage and other internal states/variables\n",
    "\n",
    "temp = 25*ones(size(current)); % for now, use constant 25 degC temperature.\n",
    "% temp = linspace(25,45,length(current)); % uncomment to simulate temperature ramp \n",
    "\n",
    "Ns = 2; Np = 2; \n",
    "[vpack,vcell,icell,zcell,qcell,rcell] = simPCMTemp(Ns,Np,current,temp,deltaT,model,[1,0,0]);\n",
    "\n",
    "% The grader will input custom pack configurations, pack current, temperature, and combination \n",
    "% of delta inputs and compare output to expected output. You will not be told what these custom \n",
    "% inputs will be, but you can still test basic functionality and visualize how the cell behavior \n",
    "% changes for different temperatures\n",
    "\n",
    "% For example, for visualization purposes, plot \n",
    "\n",
    "% Plot the individual SOC vs. time for all cells in all \n",
    "% series PCMs. There is one subplot for each PCM.\n",
    "t = (0:(length(zcell(:,:,1))-1))/60; \n",
    "xplots = round(1.0*ceil(sqrt(Ns))); yplots = ceil(Ns/xplots); \n",
    "for k = 1:Ns,\n",
    "  zr=squeeze(100*zcell(:,k,:));\n",
    "  subplot(yplots,xplots,k); plot(t,zr); axis([0 ceil(max(t)) 0 100]);\n",
    "  title(sprintf('Cells in PCM %d',k)); \n",
    "  ylabel('SOC (%)'); xlabel('Time (min)'); \n",
    "end"
   ]
  },
  {
   "cell_type": "markdown",
   "metadata": {},
   "source": [
    "When you are satisfied that your code is executing correctly, click on the \"<b>Submit Assignment</b>\" button, above.\n",
    "\n",
    "The assignment will be graded out of a maximum of 20 points possible. Half of the points apply to simulating a battery pack at constant temperature and half apply to simulating a battery pack at a varying temperature.\n",
    "* 0 points if any output has wrong dimension\n",
    "* Points for cases having constant temperature input:\n",
    "  + Points for cases where delta = [0 0 0]:\n",
    "    + 1 point for correct vpack, vcell, icell, zcell, qcell, rcell\n",
    "  + Points for cases where delta = [1 0 0]\n",
    "    + 1 point for correct zcell\n",
    "    + 1 point for correct vpack\n",
    "    + 1 point for correct vcell, icell, qcell, rcell\n",
    "  + Points for cases where delta = [0 1 0]\n",
    "    + 1 point for correct qcell\n",
    "    + 1 point for correct vpack\n",
    "    + 1 point for correct vcell, icell, zcell, rcell\n",
    "  + Points for cases where delta = [0 0 1]\n",
    "    + 1 point for correct rcell\n",
    "    + 1 point for correct vpack\n",
    "    + 1 point for correct vcell, icell, zcell, qcell\n",
    "* Points for cases having ramp temperature input:\n",
    "  + Points for cases where delta = [0 0 0]\n",
    "    + 1 point for correct vpack, vcell, icell, zcell, qcell, rcell\n",
    "  + Points for cases where delta = [1 0 0]\n",
    "    + 1 point for correct zcell\n",
    "    + 1 point for correct vpack\n",
    "    + 1 point for correct vcell, icell, qcell, rcell\n",
    "  + Points for cases where delta = [0 1 0]\n",
    "    + 1 point for correct qcell\n",
    "    + 1 point for correct vpack\n",
    "    + 1 point for correct vcell, icell, zcell, rcell\n",
    "  + Points for cases where delta = [0 0 1]\n",
    "    + 1 point for correct rcell\n",
    "    + 1 point for correct vpack\n",
    "    + 1 point for correct vcell, icell, zcell, qcell"
   ]
  },
  {
   "cell_type": "code",
   "execution_count": null,
   "metadata": {
    "collapsed": true
   },
   "outputs": [],
   "source": []
  }
 ],
 "metadata": {
  "coursera": {
   "course_slug": "equivalent-circuit-cell-model-simulation",
   "graded_item_id": "KH7iX",
   "launcher_item_id": "VmNtd"
  },
  "kernelspec": {
   "display_name": "Octave",
   "language": "octave",
   "name": "octave"
  },
  "language_info": {
   "file_extension": ".m",
   "help_links": [
    {
     "text": "GNU Octave",
     "url": "https://www.gnu.org/software/octave/support.html"
    },
    {
     "text": "Octave Kernel",
     "url": "https://github.com/Calysto/octave_kernel"
    },
    {
     "text": "MetaKernel Magics",
     "url": "https://github.com/calysto/metakernel/blob/master/metakernel/magics/README.md"
    }
   ],
   "mimetype": "text/x-octave",
   "name": "octave",
   "version": "4.2.2"
  }
 },
 "nbformat": 4,
 "nbformat_minor": 1
}
